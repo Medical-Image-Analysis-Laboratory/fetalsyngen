{
 "cells": [
  {
   "cell_type": "code",
   "execution_count": 2,
   "metadata": {},
   "outputs": [],
   "source": [
    "import nibabel as nib\n",
    "from pathlib import Path\n",
    "from monai.transforms import LoadImage\n",
    "import SimpleITK as sitk\n",
    "PATH = Path(\"/home/vzalevskyi/projects/fetalsyngen/data/derivatives/\")\n",
    "\n",
    "for imgp in PATH.glob('**/*.nii.gz'):\n",
    "    img = nib.load(str(imgp))\n",
    "    img_header = img.header\n",
    "    img_header.set_data_dtype('int8')\n",
    "    img_int8 = nib.Nifti1Image(img.get_fdata().astype('int8'), img.affine, img.header)\n",
    "    nib.save(img_int8, str(imgp))"
   ]
  },
  {
   "cell_type": "code",
   "execution_count": 104,
   "metadata": {},
   "outputs": [],
   "source": [
    "import numpy as np\n",
    "from SimpleITK import ReadImage, GetArrayFromImage\n",
    "from monai.data import MetaTensor\n",
    "from torch import from_numpy\n",
    "\n",
    "class SimpleITKReader:\n",
    "    @staticmethod\n",
    "    def make_affine_from_sitk(sitk_img):\n",
    "        \"\"\"Get affine transform in LPS\"\"\"\n",
    "        if sitk_img.GetDepth() <= 0:\n",
    "            return np.eye(4)\n",
    "\n",
    "        rot = [sitk_img.TransformContinuousIndexToPhysicalPoint(p)\n",
    "            for p in ((1, 0, 0),\n",
    "                        (0, 1, 0),\n",
    "                        (0, 0, 1),\n",
    "                        (0, 0, 0))]\n",
    "        rot = np.array(rot)\n",
    "        affine = np.concatenate([\n",
    "            np.concatenate([rot[0:3] - rot[3:], rot[3:]], axis=0),\n",
    "            [[0.], [0.], [0.], [1.]]\n",
    "        ], axis=1)\n",
    "        affine = np.transpose(affine)\n",
    "        # convert to RAS to match nibabel\n",
    "        affine = np.matmul(np.diag([-1., -1., 1., 1.]), affine)\n",
    "        return affine\n",
    "\n",
    "    def __call__(self, img_path, as_meta=True):\n",
    "        if isinstance(img_path, Path):\n",
    "            img_path = str(img_path)\n",
    "        img = ReadImage(img_path)\n",
    "        affine = torch.Tensor(self.make_affine_from_sitk(img))\n",
    "        img_data = GetArrayFromImage(img)\n",
    "        # convert to RAS to match nibabel loading order\n",
    "        img_data = from_numpy(img_data).permute(2, 1, 0)\n",
    "        if as_meta:\n",
    "            return MetaTensor(x=img_data, affine=affine)\n",
    "        else:\n",
    "            return img_data"
   ]
  },
  {
   "cell_type": "code",
   "execution_count": 63,
   "metadata": {},
   "outputs": [
    {
     "data": {
      "text/plain": [
       "['data/derivatives/seeds/subclasses_1/sub-sta21/anat/sub-sta21_rec-irtk_T2w_dseg_mlabel_1.nii.gz',\n",
       " 'data/derivatives/seeds/subclasses_1/sub-sta21/anat/sub-sta21_rec-irtk_T2w_dseg_mlabel_2.nii.gz',\n",
       " 'data/derivatives/seeds/subclasses_1/sub-sta21/anat/sub-sta21_rec-irtk_T2w_dseg_mlabel_3.nii.gz',\n",
       " 'data/derivatives/seeds/subclasses_1/sub-sta21/anat/sub-sta21_rec-irtk_T2w_dseg_mlabel_4.nii.gz']"
      ]
     },
     "execution_count": 63,
     "metadata": {},
     "output_type": "execute_result"
    }
   ],
   "source": [
    "import nibabel as nib\n",
    "from pathlib import Path\n",
    "import SimpleITK as sitk\n",
    "imgs = [\n",
    "    \"data/derivatives/seeds/subclasses_1/sub-sta21/anat/sub-sta21_rec-irtk_T2w_dseg_mlabel_1.nii.gz\",\n",
    "    \"data/derivatives/seeds/subclasses_1/sub-sta21/anat/sub-sta21_rec-irtk_T2w_dseg_mlabel_2.nii.gz\",\n",
    "    \"data/derivatives/seeds/subclasses_1/sub-sta21/anat/sub-sta21_rec-irtk_T2w_dseg_mlabel_3.nii.gz\",\n",
    "    \"data/derivatives/seeds/subclasses_1/sub-sta21/anat/sub-sta21_rec-irtk_T2w_dseg_mlabel_4.nii.gz\",\n",
    "]\n",
    "\n",
    "imgs"
   ]
  },
  {
   "cell_type": "code",
   "execution_count": 64,
   "metadata": {},
   "outputs": [],
   "source": [
    "loader = LoadImage(reader='NibabelReader')\n",
    "import torch\n",
    "import matplotlib.pyplot as plt"
   ]
  },
  {
   "cell_type": "code",
   "execution_count": 70,
   "metadata": {},
   "outputs": [],
   "source": [
    "nibabel_img = nib.load(imgs[0]).get_fdata()\n",
    "sitk_img = sitk.GetArrayFromImage(sitk.ReadImage(str(imgs[0])))\n",
    "monai_img = torch.Tensor(loader(imgs[0]))\n",
    "# cast to float 64\n",
    "monai_img = monai_img.double()\n",
    "\n",
    "# turn all to tensors\n",
    "nibabel_img = torch.tensor(nibabel_img)\n",
    "sitk_img = torch.tensor(sitk_img).double()\n",
    "\n",
    "# change xyz to zyx for sitk_img\n",
    "sitk_img = sitk_img.permute(2, 1, 0)"
   ]
  },
  {
   "cell_type": "code",
   "execution_count": 71,
   "metadata": {},
   "outputs": [
    {
     "name": "stdout",
     "output_type": "stream",
     "text": [
      "Shape: nibabel-torch.Size([256, 256, 256]), sitk-torch.Size([256, 256, 256]), monai-torch.Size([256, 256, 256])\n",
      "Type : nibabel-torch.float64, sitk-torch.float64, monai-torch.float64\n"
     ]
    }
   ],
   "source": [
    "# compare the data\n",
    "print(f'Shape: nibabel-{nibabel_img.shape}, sitk-{sitk_img.shape}, monai-{monai_img.shape}')\n",
    "print(f'Type : nibabel-{nibabel_img.dtype}, sitk-{sitk_img.dtype}, monai-{monai_img.dtype}')\n"
   ]
  },
  {
   "cell_type": "code",
   "execution_count": 72,
   "metadata": {},
   "outputs": [
    {
     "data": {
      "text/plain": [
       "True"
      ]
     },
     "execution_count": 72,
     "metadata": {},
     "output_type": "execute_result"
    }
   ],
   "source": [
    "torch.allclose(nibabel_img, sitk_img, atol=1e-6)"
   ]
  },
  {
   "cell_type": "code",
   "execution_count": 73,
   "metadata": {},
   "outputs": [
    {
     "data": {
      "text/plain": [
       "True"
      ]
     },
     "execution_count": 73,
     "metadata": {},
     "output_type": "execute_result"
    }
   ],
   "source": [
    "torch.allclose(nibabel_img, monai_img, atol=1e-6)"
   ]
  },
  {
   "cell_type": "code",
   "execution_count": 74,
   "metadata": {},
   "outputs": [
    {
     "data": {
      "image/png": "[encoded data removed]",
      "text/plain": [
       "<Figure size 1500x500 with 3 Axes>"
      ]
     },
     "metadata": {},
     "output_type": "display_data"
    }
   ],
   "source": [
    "# plot a slice from all images\n",
    "plt.figure(figsize=(15, 5))\n",
    "plt.subplot(131)\n",
    "plt.imshow(nibabel_img[100, :, :])\n",
    "plt.title('NIBABEL')\n",
    "plt.subplot(132)\n",
    "plt.imshow(sitk_img[100, :, :])\n",
    "plt.title('SITK')\n",
    "plt.subplot(133)\n",
    "plt.imshow(monai_img[100, :, :])\n",
    "plt.title('MONAI')\n",
    "plt.show()"
   ]
  },
  {
   "cell_type": "code",
   "execution_count": null,
   "metadata": {},
   "outputs": [],
   "source": []
  },
  {
   "cell_type": "code",
   "execution_count": 105,
   "metadata": {},
   "outputs": [
    {
     "name": "stdout",
     "output_type": "stream",
     "text": [
      "NIBABEL: 0.028946542739868165\n",
      "SITK: 0.006095361709594726\n",
      "MONAI: 0.0060773491859436035\n"
     ]
    }
   ],
   "source": [
    "# int8-bit images\n",
    "\n",
    "imgs = [\n",
    "    \"data/derivatives/seeds/subclasses_1/sub-sta21/anat/sub-sta21_rec-irtk_T2w_dseg_mlabel_1.nii.gz\",\n",
    "    \"data/derivatives/seeds/subclasses_1/sub-sta21/anat/sub-sta21_rec-irtk_T2w_dseg_mlabel_2.nii.gz\",\n",
    "    \"data/derivatives/seeds/subclasses_1/sub-sta21/anat/sub-sta21_rec-irtk_T2w_dseg_mlabel_3.nii.gz\",\n",
    "    \"data/derivatives/seeds/subclasses_1/sub-sta21/anat/sub-sta21_rec-irtk_T2w_dseg_mlabel_4.nii.gz\",\n",
    "]\n",
    "\n",
    "sitk_loader = lambda x: torch.from_numpy(\n",
    "    sitk.GetArrayFromImage(sitk.ReadImage(str(x)))\n",
    ").permute(2, 1, 0)\n",
    "\n",
    "monai_loader = SimpleITKReader()\n",
    "\n",
    "nibabel_reader = lambda x: torch.from_numpy(nib.load(x).get_fdata())\n",
    "\n",
    "# compare the reading speed of all loaders on imgs [read all images 10 times]\n",
    "\n",
    "import time\n",
    "\n",
    "nibabel_time = 0\n",
    "sitk_time = 0\n",
    "monai_time = 0\n",
    "\n",
    "for i in range(10):\n",
    "    start = time.time()\n",
    "    for img in imgs:\n",
    "        nibabel_reader(img)\n",
    "    end = time.time()\n",
    "    nibabel_time += end - start\n",
    "\n",
    "    start = time.time()\n",
    "    for img in imgs:\n",
    "        sitk_loader(img)\n",
    "    end = time.time()\n",
    "    sitk_time += end - start\n",
    "\n",
    "    start = time.time()\n",
    "    for img in imgs:\n",
    "        monai_loader(img)\n",
    "    end = time.time()\n",
    "    monai_time += end - start\n",
    "\n",
    "# print time per image\n",
    "print(f'NIBABEL: {nibabel_time / 10 / len(imgs)}')\n",
    "print(f'SITK: {sitk_time / 10 / len(imgs)}')\n",
    "print(f'MONAI: {monai_time / 10 / len(imgs)}')"
   ]
  },
  {
   "cell_type": "code",
   "execution_count": 106,
   "metadata": {},
   "outputs": [
    {
     "name": "stdout",
     "output_type": "stream",
     "text": [
      "NIBABEL: 0.09176988005638123\n",
      "SITK: 0.0810126781463623\n",
      "MONAI: 0.07983453273773193\n"
     ]
    }
   ],
   "source": [
    "# float32-bit images\n",
    "\n",
    "imgs = [\n",
    "    \"data/derivatives (copy)/seeds/subclasses_1/sub-sta21/anat/sub-sta21_rec-irtk_T2w_dseg_mlabel_1.nii.gz\",\n",
    "    \"data/derivatives (copy)/seeds/subclasses_1/sub-sta21/anat/sub-sta21_rec-irtk_T2w_dseg_mlabel_2.nii.gz\",\n",
    "    \"data/derivatives (copy)/seeds/subclasses_1/sub-sta21/anat/sub-sta21_rec-irtk_T2w_dseg_mlabel_3.nii.gz\",\n",
    "    \"data/derivatives (copy)/seeds/subclasses_1/sub-sta21/anat/sub-sta21_rec-irtk_T2w_dseg_mlabel_4.nii.gz\",\n",
    "]\n",
    "sitk_loader = lambda x: torch.from_numpy(\n",
    "    sitk.GetArrayFromImage(sitk.ReadImage(str(x)))\n",
    ").permute(2, 1, 0)\n",
    "\n",
    "monai_loader = SimpleITKReader()\n",
    "\n",
    "nibabel_reader = lambda x: torch.from_numpy(nib.load(x).get_fdata())\n",
    "\n",
    "# compare the reading speed of all loaders on imgs [read all images 10 times]\n",
    "\n",
    "import time\n",
    "\n",
    "nibabel_time = 0\n",
    "sitk_time = 0\n",
    "monai_time = 0\n",
    "\n",
    "for i in range(10):\n",
    "    start = time.time()\n",
    "    for img in imgs:\n",
    "        nibabel_reader(img)\n",
    "    end = time.time()\n",
    "    nibabel_time += end - start\n",
    "\n",
    "    start = time.time()\n",
    "    for img in imgs:\n",
    "        sitk_loader(img)\n",
    "    end = time.time()\n",
    "    sitk_time += end - start\n",
    "\n",
    "    start = time.time()\n",
    "    for img in imgs:\n",
    "        monai_loader(img)\n",
    "    end = time.time()\n",
    "    monai_time += end - start\n",
    "\n",
    "# print time per image\n",
    "print(f\"NIBABEL: {nibabel_time / 10 / len(imgs)}\")\n",
    "print(f\"SITK: {sitk_time / 10 / len(imgs)}\")\n",
    "print(f\"MONAI: {monai_time / 10 / len(imgs)}\")"
   ]
  },
  {
   "cell_type": "code",
   "execution_count": 107,
   "metadata": {},
   "outputs": [
    {
     "name": "stdout",
     "output_type": "stream",
     "text": [
      "tensor([[  0.5000,   0.0000,   0.0000, -63.4001],\n",
      "        [  0.0000,   0.5000,   0.0000, -63.8001],\n",
      "        [  0.0000,   0.0000,   0.5000, -63.5999],\n",
      "        [  0.0000,   0.0000,   0.0000,   1.0000]], dtype=torch.float64)\n",
      "{affine: tensor([[  0.5000,   0.0000,   0.0000, -63.4001],\n",
      "        [  0.0000,   0.5000,   0.0000, -63.8001],\n",
      "        [  0.0000,   0.0000,   0.5000, -63.5999],\n",
      "        [  0.0000,   0.0000,   0.0000,   1.0000]], dtype=torch.float64), space: RAS}\n"
     ]
    }
   ],
   "source": [
    "img1_monai = monai_loader(imgs[0])\n",
    "# print affine\n",
    "print(img1_monai.affine)\n",
    "# print header\n",
    "print(img1_monai.meta)"
   ]
  },
  {
   "cell_type": "code",
   "execution_count": 79,
   "metadata": {},
   "outputs": [
    {
     "name": "stdout",
     "output_type": "stream",
     "text": [
      "tensor([[  0.5000,   0.0000,   0.0000, -63.4001],\n",
      "        [  0.0000,   0.5000,   0.0000, -63.8001],\n",
      "        [  0.0000,   0.0000,   0.5000, -63.5999],\n",
      "        [  0.0000,   0.0000,   0.0000,   1.0000]], dtype=torch.float64)\n",
      "{'sizeof_hdr': array(348, dtype=int32), 'extents': array(0, dtype=int32), 'session_error': array(0, dtype=int16), 'dim_info': array(0, dtype=uint8), 'dim': array([  3, 256, 256, 256,   1,   1,   1,   1], dtype=int16), 'intent_p1': array(0., dtype=float32), 'intent_p2': array(0., dtype=float32), 'intent_p3': array(0., dtype=float32), 'intent_code': array(0, dtype=int16), 'datatype': array(16, dtype=int16), 'bitpix': array(32, dtype=int16), 'slice_start': array(0, dtype=int16), 'pixdim': array([1. , 0.5, 0.5, 0.5, 1. , 1. , 1. , 1. ], dtype=float32), 'vox_offset': array(0., dtype=float32), 'scl_slope': array(nan, dtype=float32), 'scl_inter': array(nan, dtype=float32), 'slice_end': array(0, dtype=int16), 'slice_code': array(0, dtype=uint8), 'xyzt_units': array(0, dtype=uint8), 'cal_max': array(0., dtype=float32), 'cal_min': array(0., dtype=float32), 'slice_duration': array(0., dtype=float32), 'toffset': array(0., dtype=float32), 'glmax': array(0, dtype=int32), 'glmin': array(0, dtype=int32), 'qform_code': array(1, dtype=int16), 'sform_code': array(1, dtype=int16), 'quatern_b': array(0., dtype=float32), 'quatern_c': array(0., dtype=float32), 'quatern_d': array(0., dtype=float32), 'qoffset_x': array(-63.400066, dtype=float32), 'qoffset_y': array(-63.800095, dtype=float32), 'qoffset_z': array(-63.599922, dtype=float32), 'srow_x': array([  0.5     ,   0.      ,   0.      , -63.400066], dtype=float32), 'srow_y': array([  0.      ,   0.5     ,   0.      , -63.800095], dtype=float32), 'srow_z': array([  0.      ,   0.      ,   0.5     , -63.599922], dtype=float32), affine: tensor([[  0.5000,   0.0000,   0.0000, -63.4001],\n",
      "        [  0.0000,   0.5000,   0.0000, -63.8001],\n",
      "        [  0.0000,   0.0000,   0.5000, -63.5999],\n",
      "        [  0.0000,   0.0000,   0.0000,   1.0000]], dtype=torch.float64), original_affine: array([[  0.5       ,   0.        ,   0.        , -63.40006638],\n",
      "       [  0.        ,   0.5       ,   0.        , -63.8000946 ],\n",
      "       [  0.        ,   0.        ,   0.5       , -63.59992218],\n",
      "       [  0.        ,   0.        ,   0.        ,   1.        ]]), 'as_closest_canonical': False, spatial_shape: array([256, 256, 256], dtype=int16), space: RAS, original_channel_dim: nan, 'filename_or_obj': 'data/derivatives (copy)/seeds/subclasses_1/sub-sta21/anat/sub-sta21_rec-irtk_T2w_dseg_mlabel_1.nii.gz'}\n"
     ]
    }
   ],
   "source": [
    "img1_monai = monai_loader(imgs[0])\n",
    "# print affine\n",
    "print(img1_monai.affine)\n",
    "# print header\n",
    "print(img1_monai.meta)"
   ]
  },
  {
   "cell_type": "code",
   "execution_count": 83,
   "metadata": {},
   "outputs": [
    {
     "name": "stdout",
     "output_type": "stream",
     "text": [
      "(63.40006637573242, 63.80009460449219, -63.59992218017578)\n",
      "('ITK_FileNotes', 'ITK_original_direction', 'ITK_original_spacing', 'aux_file', 'bitpix', 'cal_max', 'cal_min', 'datatype', 'descrip', 'dim[0]', 'dim[1]', 'dim[2]', 'dim[3]', 'dim[4]', 'dim[5]', 'dim[6]', 'dim[7]', 'dim_info', 'intent_code', 'intent_name', 'intent_p1', 'intent_p2', 'intent_p3', 'nifti_type', 'pixdim[0]', 'pixdim[1]', 'pixdim[2]', 'pixdim[3]', 'pixdim[4]', 'pixdim[5]', 'pixdim[6]', 'pixdim[7]', 'qfac', 'qform_code', 'qform_code_name', 'qoffset_x', 'qoffset_y', 'qoffset_z', 'qto_xyz', 'quatern_b', 'quatern_c', 'quatern_d', 'scl_inter', 'scl_slope', 'sform_code', 'sform_code_name', 'slice_code', 'slice_duration', 'slice_end', 'slice_start', 'srow_x', 'srow_y', 'srow_z', 'toffset', 'vox_offset', 'xyzt_units')\n"
     ]
    }
   ],
   "source": [
    "img1_sitk = sitk.ReadImage(str(imgs[0]))\n",
    "\n",
    "# print affine\n",
    "print(img1_sitk.GetOrigin())\n",
    "\n",
    "# print header\n",
    "print(img1_sitk.GetMetaDataKeys())"
   ]
  },
  {
   "cell_type": "code",
   "execution_count": null,
   "metadata": {},
   "outputs": [],
   "source": []
  },
  {
   "cell_type": "code",
   "execution_count": null,
   "metadata": {},
   "outputs": [],
   "source": []
  }
 ],
 "metadata": {
  "kernelspec": {
   "display_name": "fetalSynthSeg",
   "language": "python",
   "name": "python3"
  },
  "language_info": {
   "codemirror_mode": {
    "name": "ipython",
    "version": 3
   },
   "file_extension": ".py",
   "mimetype": "text/x-python",
   "name": "python",
   "nbconvert_exporter": "python",
   "pygments_lexer": "ipython3",
   "version": "3.10.13"
  }
 },
 "nbformat": 4,
 "nbformat_minor": 2
}
